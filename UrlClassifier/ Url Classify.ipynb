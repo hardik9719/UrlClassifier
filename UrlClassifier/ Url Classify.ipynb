{
 "cells": [
  {
   "cell_type": "code",
   "execution_count": 1,
   "metadata": {},
   "outputs": [
    {
     "name": "stdout",
     "output_type": "stream",
     "text": [
      "webencodings 0.5.1\n",
      "pandas 0.22.0\n",
      "ipywidgets 7.2.1\n",
      "testpath 0.3.1\n",
      "jupyter-core 4.4.0\n",
      "jupyter-client 5.2.3\n",
      "six 1.11.0\n",
      "pytz 2018.4\n",
      "simplegeneric 0.8.1\n",
      "backcall 0.1.0\n",
      "MarkupSafe 1.0\n",
      "Send2Trash 1.5.0\n",
      "nbconvert 5.3.1\n",
      "jupyter-console 5.2.0\n",
      "tornado 5.0.2\n",
      "numpy 1.14.2\n",
      "parso 0.2.0\n",
      "pyzmq 17.0.0\n",
      "pexpect 4.5.0\n",
      "qtconsole 4.3.1\n",
      "decorator 4.3.0\n",
      "ipython 6.3.1\n",
      "pickleshare 0.7.4\n",
      "jsonschema 2.6.0\n",
      "pandocfilters 1.4.2\n",
      "jedi 0.12.0\n",
      "widgetsnbextension 3.2.1\n",
      "terminado 0.8.1\n",
      "html5lib 1.0.1\n",
      "bleach 2.1.3\n",
      "python-dateutil 2.7.2\n",
      "ipython-genutils 0.2.0\n",
      "Jinja2 2.10\n",
      "jupyter 1.0.0\n",
      "mistune 0.8.3\n",
      "wcwidth 0.1.7\n",
      "nbformat 4.4.0\n",
      "Pygments 2.2.0\n",
      "prompt-toolkit 1.0.15\n",
      "traitlets 4.3.2\n",
      "ptyprocess 0.5.2\n",
      "setuptools 39.0.1\n",
      "notebook 5.4.1\n",
      "entrypoints 0.2.3\n",
      "ipykernel 4.8.2\n",
      "socketIO-client 0.7.2\n",
      "scikit-learn 0.19.1\n",
      "npw 1.1.3\n",
      "scipy 1.0.1\n",
      "websocket-client 0.47.0\n",
      "termcolor 1.1.0\n",
      "docopt 0.6.2\n",
      "xlrd 1.1.0\n",
      "Brotli 1.0.1\n",
      "sklearn 0.0\n"
     ]
    }
   ],
   "source": [
    "import pip #needed to use the pip functions\n",
    "for i in pip.get_installed_distributions(local_only=True):\n",
    "    print(i)\n"
   ]
  },
  {
   "cell_type": "code",
   "execution_count": 2,
   "metadata": {},
   "outputs": [
    {
     "name": "stderr",
     "output_type": "stream",
     "text": [
      "/usr/local/lib/python3.5/dist-packages/sklearn/cross_validation.py:41: DeprecationWarning: This module was deprecated in version 0.18 in favor of the model_selection module into which all the refactored classes and functions are moved. Also note that the interface of the new CV iterators are different from that of this module. This module will be removed in 0.20.\n",
      "  \"This module will be removed in 0.20.\", DeprecationWarning)\n"
     ]
    }
   ],
   "source": [
    "import matplotlib\n",
    "import pandas as pd\n",
    "import sys\n",
    "import numpy as np\n",
    "from sklearn.naive_bayes import MultinomialNB\n",
    "from sklearn.cross_validation import train_test_split\n",
    "from sklearn.neighbors import KNeighborsClassifier\n",
    "from sklearn.feature_extraction.text import CountVectorizer"
   ]
  },
  {
   "cell_type": "code",
   "execution_count": 3,
   "metadata": {},
   "outputs": [
    {
     "data": {
      "text/plain": [
       "KNeighborsClassifier(algorithm='auto', leaf_size=30, metric='minkowski',\n",
       "           metric_params=None, n_jobs=1, n_neighbors=5, p=2,\n",
       "           weights='uniform')"
      ]
     },
     "execution_count": 3,
     "metadata": {},
     "output_type": "execute_result"
    }
   ],
   "source": [
    "newsdata=pd.read_csv('./uci-news-url.csv', engine='python',encoding = \"ISO-8859-1\")\n",
    "X = newsdata['TITLE']\n",
    "vectorizer=CountVectorizer()\n",
    "c=vectorizer.fit_transform(X.astype('U'))\n",
    "\n",
    "y = newsdata['CATEGORY'];\n",
    "#classifier = MultinomialNB()\n",
    "neigh = KNeighborsClassifier(n_neighbors = 5, weights='uniform', algorithm='auto')\n",
    "#X_train,y_train,X_test,y_test=train_test_split(c,y,test_size=0.2)\n",
    "neigh.fit(c,y)"
   ]
  },
  {
   "cell_type": "code",
   "execution_count": 5,
   "metadata": {},
   "outputs": [
    {
     "name": "stdout",
     "output_type": "stream",
     "text": [
      "['b']\n"
     ]
    }
   ],
   "source": [
    "example = ['what-kind-of-asteroid-is-ryugu.html']\n",
    "example_count = vectorizer.transform(example)\n",
    "#pred = classifier.predict(example_count)\n",
    "pred=neigh.predict(example_count)\n",
    "print(pred)"
   ]
  },
  {
   "cell_type": "code",
   "execution_count": 8,
   "metadata": {},
   "outputs": [
    {
     "name": "stdout",
     "output_type": "stream",
     "text": [
      "count                15\n",
      "unique               15\n",
      "top       creature-cups\n",
      "freq                  1\n",
      "Name: url, dtype: object\n"
     ]
    },
    {
     "data": {
      "text/html": [
       "<div>\n",
       "<style scoped>\n",
       "    .dataframe tbody tr th:only-of-type {\n",
       "        vertical-align: middle;\n",
       "    }\n",
       "\n",
       "    .dataframe tbody tr th {\n",
       "        vertical-align: top;\n",
       "    }\n",
       "\n",
       "    .dataframe thead th {\n",
       "        text-align: right;\n",
       "    }\n",
       "</style>\n",
       "<table border=\"1\" class=\"dataframe\">\n",
       "  <thead>\n",
       "    <tr style=\"text-align: right;\">\n",
       "      <th></th>\n",
       "      <th>category</th>\n",
       "      <th>url</th>\n",
       "    </tr>\n",
       "  </thead>\n",
       "  <tbody>\n",
       "    <tr>\n",
       "      <th>5</th>\n",
       "      <td>t</td>\n",
       "      <td>earth-size-planets-milky-way</td>\n",
       "    </tr>\n",
       "    <tr>\n",
       "      <th>6</th>\n",
       "      <td>t</td>\n",
       "      <td>samsung-galaxy-s-ii-plus</td>\n",
       "    </tr>\n",
       "    <tr>\n",
       "      <th>7</th>\n",
       "      <td>t</td>\n",
       "      <td>facebook-sick-app</td>\n",
       "    </tr>\n",
       "    <tr>\n",
       "      <th>8</th>\n",
       "      <td>t</td>\n",
       "      <td>apple-phablet</td>\n",
       "    </tr>\n",
       "    <tr>\n",
       "      <th>9</th>\n",
       "      <td>e</td>\n",
       "      <td>amazon-free-movies-books</td>\n",
       "    </tr>\n",
       "    <tr>\n",
       "      <th>10</th>\n",
       "      <td>b</td>\n",
       "      <td>echo-game</td>\n",
       "    </tr>\n",
       "    <tr>\n",
       "      <th>11</th>\n",
       "      <td>b</td>\n",
       "      <td>att-u-verse-apps</td>\n",
       "    </tr>\n",
       "    <tr>\n",
       "      <th>12</th>\n",
       "      <td>t</td>\n",
       "      <td>beewi-smart-toys</td>\n",
       "    </tr>\n",
       "    <tr>\n",
       "      <th>13</th>\n",
       "      <td>e</td>\n",
       "      <td>bodymedia-armbandgets-update</td>\n",
       "    </tr>\n",
       "    <tr>\n",
       "      <th>14</th>\n",
       "      <td>b</td>\n",
       "      <td>canon-poweshot-n</td>\n",
       "    </tr>\n",
       "    <tr>\n",
       "      <th>15</th>\n",
       "      <td>t</td>\n",
       "      <td>car-of-the-future-infographic</td>\n",
       "    </tr>\n",
       "    <tr>\n",
       "      <th>16</th>\n",
       "      <td>t</td>\n",
       "      <td>chuck-hagel-website</td>\n",
       "    </tr>\n",
       "    <tr>\n",
       "      <th>17</th>\n",
       "      <td>e</td>\n",
       "      <td>cosmic-events-doomsday</td>\n",
       "    </tr>\n",
       "    <tr>\n",
       "      <th>18</th>\n",
       "      <td>e</td>\n",
       "      <td>crayon-creatures</td>\n",
       "    </tr>\n",
       "    <tr>\n",
       "      <th>19</th>\n",
       "      <td>e</td>\n",
       "      <td>creature-cups</td>\n",
       "    </tr>\n",
       "  </tbody>\n",
       "</table>\n",
       "</div>"
      ],
      "text/plain": [
       "   category                            url\n",
       "5         t   earth-size-planets-milky-way\n",
       "6         t       samsung-galaxy-s-ii-plus\n",
       "7         t              facebook-sick-app\n",
       "8         t                  apple-phablet\n",
       "9         e       amazon-free-movies-books\n",
       "10        b                      echo-game\n",
       "11        b               att-u-verse-apps\n",
       "12        t               beewi-smart-toys\n",
       "13        e   bodymedia-armbandgets-update\n",
       "14        b               canon-poweshot-n\n",
       "15        t  car-of-the-future-infographic\n",
       "16        t            chuck-hagel-website\n",
       "17        e         cosmic-events-doomsday\n",
       "18        e               crayon-creatures\n",
       "19        e                  creature-cups"
      ]
     },
     "execution_count": 8,
     "metadata": {},
     "output_type": "execute_result"
    }
   ],
   "source": [
    "\n",
    "urldata=pd.read_excel('./write2cell.xlsx')\n",
    "X=urldata['url']\n",
    "X=X[5:20]\n",
    "print(X.describe())\n",
    "example_count = vectorizer.transform(X)\n",
    "\n",
    "pred = neigh.predict(example_count)\n",
    "# pro=classifier.predict_proba(example_count)\n",
    "output=pd.DataFrame({\"url\":X,\"category\":pred})\n",
    "output"
   ]
  },
  {
   "cell_type": "code",
   "execution_count": null,
   "metadata": {},
   "outputs": [],
   "source": [
    "output.to_excel('trainingdataurl.xlsx',index=False)"
   ]
  }
 ],
 "metadata": {
  "kernelspec": {
   "display_name": "Python 3",
   "language": "python",
   "name": "python3"
  }
 },
 "nbformat": 4,
 "nbformat_minor": 2
}
